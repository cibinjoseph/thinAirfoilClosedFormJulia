{
 "cells": [
  {
   "cell_type": "markdown",
   "id": "6717eadb",
   "metadata": {},
   "source": [
    "### poly() and bern() to find zero-lift angle and moment coefficients of polynomial airfoils"
   ]
  },
  {
   "cell_type": "code",
   "execution_count": 16,
   "id": "f65951e8",
   "metadata": {},
   "outputs": [],
   "source": [
    "using SpecialFunctions"
   ]
  },
  {
   "cell_type": "code",
   "execution_count": 23,
   "id": "e9a5a3db",
   "metadata": {},
   "outputs": [
    {
     "data": {
      "text/plain": [
       "poly (generic function with 1 method)"
      ]
     },
     "execution_count": 23,
     "metadata": {},
     "output_type": "execute_result"
    }
   ],
   "source": [
    "function poly(coeffs)\n",
    "    # Polynomial airfoil\n",
    "    # coeffs in the order [a0, a1, a2, ... ]\n",
    "    # for a0 + a1*x + a2*x^2 + ...\n",
    "    \n",
    "    alpha0 = 0.0;\n",
    "    CMcby4 = 0.0;\n",
    "    \n",
    "    for i = 1:length(coeffs)-1\n",
    "        alpha0 += i*coeffs[i+1]*beta(i+0.5, 0.5);\n",
    "        CMcby4 += i*coeffs[i+1]*(beta(i+1.5, 0.5)-3.0*beta(i+0.5, 1.5));\n",
    "    end\n",
    "    \n",
    "    return alpha0*2.0*180.0/(pi)^2.0, CMcby4;\n",
    "end"
   ]
  },
  {
   "cell_type": "code",
   "execution_count": 30,
   "id": "290a6f5e",
   "metadata": {},
   "outputs": [
    {
     "data": {
      "text/plain": [
       "bern (generic function with 1 method)"
      ]
     },
     "execution_count": 30,
     "metadata": {},
     "output_type": "execute_result"
    }
   ],
   "source": [
    "function bern(coeffs)\n",
    "    # Bernstein polynomial airfoil\n",
    "    \n",
    "    alpha0 = 0.0\n",
    "    CMcby4 = 0.0\n",
    "    \n",
    "    n = length(coeffs)-1\n",
    "    for i = 1:length(coeffs)-1\n",
    "        k = n-i\n",
    "        infAlpha0 = binomial(n, i)*(i*beta(i+1/2, k+1/2) -\n",
    "                          k*beta(i+3/2, k-1/2))\n",
    "        alpha0 += coeffs[i+1]*infAlpha0\n",
    "        infCM = binomial(n, i)*(1*i*beta(i+1/2, k+1/2) -\n",
    "                            4*i*beta(i+1/2, k+3/2) -\n",
    "                            1*k*beta(i+3/2, k-1/2) +\n",
    "                            4*k*beta(i+3/2, k+1/2))\n",
    "        CMcby4 += coeffs[i+1]*infCM\n",
    "    end\n",
    "    \n",
    "    alpha0 = alpha0*2.0/pi*(180.0/pi)\n",
    "    return alpha0, CMcby4\n",
    "end"
   ]
  }
 ],
 "metadata": {
  "kernelspec": {
   "display_name": "Julia 1.8.2",
   "language": "julia",
   "name": "julia-1.8"
  },
  "language_info": {
   "file_extension": ".jl",
   "mimetype": "application/julia",
   "name": "julia",
   "version": "1.8.2"
  }
 },
 "nbformat": 4,
 "nbformat_minor": 5
}
