{
 "cells": [
  {
   "cell_type": "markdown",
   "id": "6717eadb",
   "metadata": {},
   "source": [
    "### poly() and bern() to find zero-lift angle and moment coefficients of polynomial airfoils"
   ]
  },
  {
   "cell_type": "code",
   "execution_count": 1,
   "id": "f65951e8",
   "metadata": {},
   "outputs": [],
   "source": [
    "using SpecialFunctions"
   ]
  },
  {
   "cell_type": "code",
   "execution_count": 2,
   "id": "e9a5a3db",
   "metadata": {},
   "outputs": [
    {
     "data": {
      "text/plain": [
       "poly (generic function with 1 method)"
      ]
     },
     "execution_count": 2,
     "metadata": {},
     "output_type": "execute_result"
    }
   ],
   "source": [
    "function poly(coeffs)\n",
    "    # Polynomial airfoil\n",
    "    # coeffs in the order [a0, a1, a2, ... ]\n",
    "    # for a0 + a1*x + a2*x^2 + ...\n",
    "    \n",
    "    alpha0 = 0.0;\n",
    "    CMcby4 = 0.0;\n",
    "    \n",
    "    for i = 1:length(coeffs)-1\n",
    "        alpha0 += i*coeffs[i+1]*beta(i+0.5, 0.5);\n",
    "        CMcby4 += i*coeffs[i+1]*(beta(i+1.5, 0.5)-3.0*beta(i+0.5, 1.5));\n",
    "    end\n",
    "    \n",
    "    return alpha0*2.0*180.0/(pi)^2.0, CMcby4;\n",
    "end"
   ]
  },
  {
   "cell_type": "code",
   "execution_count": 3,
   "id": "290a6f5e",
   "metadata": {},
   "outputs": [
    {
     "data": {
      "text/plain": [
       "bern (generic function with 1 method)"
      ]
     },
     "execution_count": 3,
     "metadata": {},
     "output_type": "execute_result"
    }
   ],
   "source": [
    "function bern(coeffs)\n",
    "    # Bernstein polynomial airfoil\n",
    "    \n",
    "    alpha0 = 0.0\n",
    "    CMcby4 = 0.0\n",
    "    \n",
    "    n = length(coeffs)-1\n",
    "    for i = 1:length(coeffs)-1\n",
    "        k = n-i\n",
    "        infAlpha0 = binomial(n, i)*(i*beta(i+1/2, k+1/2) -\n",
    "                          k*beta(i+3/2, k-1/2))\n",
    "        alpha0 += coeffs[i+1]*infAlpha0\n",
    "        infCM = binomial(n, i)*(1*i*beta(i+1/2, k+1/2) -\n",
    "                            4*i*beta(i+1/2, k+3/2) -\n",
    "                            1*k*beta(i+3/2, k-1/2) +\n",
    "                            4*k*beta(i+3/2, k+1/2))\n",
    "        CMcby4 += coeffs[i+1]*infCM\n",
    "    end\n",
    "    \n",
    "    alpha0 = alpha0*2.0/pi*(180.0/pi)\n",
    "    return alpha0, CMcby4\n",
    "end"
   ]
  },
  {
   "cell_type": "code",
   "execution_count": 5,
   "id": "1e5b3d01",
   "metadata": {},
   "outputs": [
    {
     "data": {
      "text/plain": [
       "(7.955709597815667, 0.12326415008242009)"
      ]
     },
     "execution_count": 5,
     "metadata": {},
     "output_type": "execute_result"
    }
   ],
   "source": [
    "pcoeff = [ 0.0\n",
    "-4.4056750939314285e-002\n",
    "-1.9040863920703146e+000\n",
    " 1.7654616925424413e+001\n",
    "-6.5745624657155716e+001\n",
    " 1.3090244520033011e+002\n",
    "-1.4585891137002082e+002\n",
    " 8.5705116045070682e+001\n",
    "-2.0649700611477471e+001];\n",
    "poly(pcoeff)"
   ]
  },
  {
   "cell_type": "code",
   "execution_count": 6,
   "id": "e27eeaee",
   "metadata": {},
   "outputs": [
    {
     "data": {
      "text/plain": [
       "-0.872363366785176"
      ]
     },
     "execution_count": 6,
     "metadata": {},
     "output_type": "execute_result"
    }
   ],
   "source": [
    "2*pi*-7.955*pi/180"
   ]
  }
 ],
 "metadata": {
  "kernelspec": {
   "display_name": "Julia 1.8.2",
   "language": "julia",
   "name": "julia-1.8"
  },
  "language_info": {
   "file_extension": ".jl",
   "mimetype": "application/julia",
   "name": "julia",
   "version": "1.8.2"
  }
 },
 "nbformat": 4,
 "nbformat_minor": 5
}
